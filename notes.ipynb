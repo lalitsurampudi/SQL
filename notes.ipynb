{
    "metadata": {
        "kernelspec": {
            "name": "python3",
            "display_name": "Python 3"
        },
        "language_info": {
            "name": "python",
            "version": "3.7.0",
            "mimetype": "text/x-python",
            "codemirror_mode": {
                "name": "ipython",
                "version": 3
            },
            "pygments_lexer": "ipython3",
            "nbconvert_exporter": "python",
            "file_extension": ".py"
        }
    },
    "nbformat_minor": 2,
    "nbformat": 4,
    "cells": [
        {
            "cell_type": "code",
            "source": [
                "select top(2) * from HumanResources.Employee"
            ],
            "metadata": {
                "azdata_cell_guid": "b34f5a0c-7e3a-479a-9456-17df044543fa"
            },
            "outputs": [
                {
                    "output_type": "display_data",
                    "data": {
                        "text/html": "(2 rows affected)"
                    },
                    "metadata": {}
                },
                {
                    "output_type": "display_data",
                    "data": {
                        "text/html": "Total execution time: 00:00:00.018"
                    },
                    "metadata": {}
                },
                {
                    "output_type": "execute_result",
                    "metadata": {},
                    "execution_count": 5,
                    "data": {
                        "application/vnd.dataresource+json": {
                            "schema": {
                                "fields": [
                                    {
                                        "name": "BusinessEntityID"
                                    },
                                    {
                                        "name": "NationalIDNumber"
                                    },
                                    {
                                        "name": "LoginID"
                                    },
                                    {
                                        "name": "OrganizationNode"
                                    },
                                    {
                                        "name": "OrganizationLevel"
                                    },
                                    {
                                        "name": "JobTitle"
                                    },
                                    {
                                        "name": "BirthDate"
                                    },
                                    {
                                        "name": "MaritalStatus"
                                    },
                                    {
                                        "name": "Gender"
                                    },
                                    {
                                        "name": "HireDate"
                                    },
                                    {
                                        "name": "SalariedFlag"
                                    },
                                    {
                                        "name": "VacationHours"
                                    },
                                    {
                                        "name": "SickLeaveHours"
                                    },
                                    {
                                        "name": "CurrentFlag"
                                    },
                                    {
                                        "name": "rowguid"
                                    },
                                    {
                                        "name": "ModifiedDate"
                                    }
                                ]
                            },
                            "data": [
                                {
                                    "0": "1",
                                    "1": "295847284",
                                    "2": "adventure-works\\ken0",
                                    "3": "NULL",
                                    "4": "NULL",
                                    "5": "Chief Executive Officer",
                                    "6": "1969-01-29",
                                    "7": "S",
                                    "8": "M",
                                    "9": "2009-01-14",
                                    "10": "1",
                                    "11": "99",
                                    "12": "69",
                                    "13": "1",
                                    "14": "f01251e5-96a3-448d-981e-0f99d789110d",
                                    "15": "2014-06-30 00:00:00.000"
                                },
                                {
                                    "0": "2",
                                    "1": "245797967",
                                    "2": "adventure-works\\terri0",
                                    "3": "0x58",
                                    "4": "1",
                                    "5": "Vice President of Engineering",
                                    "6": "1971-08-01",
                                    "7": "S",
                                    "8": "F",
                                    "9": "2008-01-31",
                                    "10": "1",
                                    "11": "1",
                                    "12": "20",
                                    "13": "1",
                                    "14": "45e8f437-670d-4409-93cb-f9424a40d6ee",
                                    "15": "2014-06-30 00:00:00.000"
                                }
                            ]
                        },
                        "text/html": "<table><tr><th>BusinessEntityID</th><th>NationalIDNumber</th><th>LoginID</th><th>OrganizationNode</th><th>OrganizationLevel</th><th>JobTitle</th><th>BirthDate</th><th>MaritalStatus</th><th>Gender</th><th>HireDate</th><th>SalariedFlag</th><th>VacationHours</th><th>SickLeaveHours</th><th>CurrentFlag</th><th>rowguid</th><th>ModifiedDate</th></tr><tr><td>1</td><td>295847284</td><td>adventure-works\\ken0</td><td>NULL</td><td>NULL</td><td>Chief Executive Officer</td><td>1969-01-29</td><td>S</td><td>M</td><td>2009-01-14</td><td>1</td><td>99</td><td>69</td><td>1</td><td>f01251e5-96a3-448d-981e-0f99d789110d</td><td>2014-06-30 00:00:00.000</td></tr><tr><td>2</td><td>245797967</td><td>adventure-works\\terri0</td><td>0x58</td><td>1</td><td>Vice President of Engineering</td><td>1971-08-01</td><td>S</td><td>F</td><td>2008-01-31</td><td>1</td><td>1</td><td>20</td><td>1</td><td>45e8f437-670d-4409-93cb-f9424a40d6ee</td><td>2014-06-30 00:00:00.000</td></tr></table>"
                    }
                }
            ],
            "execution_count": 5
        },
        {
            "cell_type": "markdown",
            "source": [
                ""
            ],
            "metadata": {
                "azdata_cell_guid": "afc08a6d-b8f0-4621-8a84-fd0cdf0d8c14"
            }
        },
        {
            "cell_type": "code",
            "source": [
                "print('hello world!')"
            ],
            "metadata": {
                "azdata_cell_guid": "4fcc5dfc-885e-4f91-8d57-3409911bfa8b"
            },
            "outputs": [
                {
                    "name": "stdout",
                    "text": "hello world!\n",
                    "output_type": "stream"
                }
            ],
            "execution_count": 1
        }
    ]
}